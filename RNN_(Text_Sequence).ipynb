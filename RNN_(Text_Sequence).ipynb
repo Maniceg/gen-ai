{
  "nbformat": 4,
  "nbformat_minor": 0,
  "metadata": {
    "colab": {
      "provenance": [],
      "authorship_tag": "ABX9TyOCvEUh6Zrw778WoAfHSNha",
      "include_colab_link": true
    },
    "kernelspec": {
      "name": "python3",
      "display_name": "Python 3"
    },
    "language_info": {
      "name": "python"
    }
  },
  "cells": [
    {
      "cell_type": "markdown",
      "metadata": {
        "id": "view-in-github",
        "colab_type": "text"
      },
      "source": [
        "<a href=\"https://colab.research.google.com/github/Maniceg/gen-ai/blob/main/RNN_(Text_Sequence).ipynb\" target=\"_parent\"><img src=\"https://colab.research.google.com/assets/colab-badge.svg\" alt=\"Open In Colab\"/></a>"
      ]
    },
    {
      "cell_type": "code",
      "execution_count": 1,
      "metadata": {
        "colab": {
          "base_uri": "https://localhost:8080/",
          "height": 106
        },
        "id": "Sd6MXxw3Qoo1",
        "outputId": "7c7737cb-5f2d-4976-8de0-7684586e41fc"
      },
      "outputs": [
        {
          "output_type": "error",
          "ename": "SyntaxError",
          "evalue": "unterminated string literal (detected at line 18) (<ipython-input-1-ed628f63073d>, line 18)",
          "traceback": [
            "\u001b[0;36m  File \u001b[0;32m\"<ipython-input-1-ed628f63073d>\"\u001b[0;36m, line \u001b[0;32m18\u001b[0m\n\u001b[0;31m    return f\"Next number: {\u001b[0m\n\u001b[0m           ^\u001b[0m\n\u001b[0;31mSyntaxError\u001b[0m\u001b[0;31m:\u001b[0m unterminated string literal (detected at line 18)\n"
          ]
        }
      ],
      "source": [
        "from tensorflow.keras.models import Sequential\n",
        "from tensorflow.keras.layers import SimpleRNN, Dense\n",
        "import numpy as np\n",
        "import gradio as gr\n",
        "\n",
        "X = np.array([[[0], [1], [2]], [[1], [2], [3]], [[2], [3], [4]]])\n",
        "y = np.array([[3], [4], [5]])\n",
        "\n",
        "model = Sequential([\n",
        "    SimpleRNN(10, input_shape=(3,1)),\n",
        "    Dense(1)\n",
        "])\n",
        "model.compile(optimizer='adam', loss='mse')\n",
        "model.fit(X, y, epochs=100, verbose=0)\n",
        "\n",
        "def predict(n1, n2, n3):\n",
        "    seq = np.array([[[n1], [n2], [n3]]])\n",
        "    return f\"Next number: {\n"
      ]
    }
  ]
}